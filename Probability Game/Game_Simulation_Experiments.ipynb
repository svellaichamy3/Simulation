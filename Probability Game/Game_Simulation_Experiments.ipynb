{
 "cells": [
  {
   "cell_type": "markdown",
   "id": "danish-sitting",
   "metadata": {
    "id": "danish-sitting"
   },
   "source": [
    "## Project Description\n",
    "\n",
    "#### There are two players, A and B. At the beginning of the game, each starts with 4 coins, and there are 2 coins in the pot. A goes first,then B, then A,. . . . During a particular player's turn, the player tosses a 6-sided die. If the player rolls a:  \n",
    "\n",
    "#### \u000f 1, then the player does nothing.  \n",
    "#### \u000f 2: then the player takes all coins in the pot. \n",
    "#### \u000f 3: then the player takes half of the coins in the pot (rounded down). \n",
    "#### \u000f 4,5,6: then the player puts a coin in the pot. \n",
    "\n",
    "####  A player loses (and the game is over) if they are unable to perform the task (i.e., if they have 0 coins and need to place one in the pot). We define a cycle as A and then B completing their turns. The exception is if a player goes out; that is the final cycle (but it still counts as the last cycle). \n",
    "\n",
    "####  We are trying to determine the expected number (and maybe even the distribution) of cycles the game will last for. I'm guessing that you can use \"first-step\" analysis to get the expected value. Simulation seems the easiest thing to do to get the entire distribution."
   ]
  },
  {
   "cell_type": "code",
   "execution_count": null,
   "id": "annoying-skiing",
   "metadata": {
    "id": "annoying-skiing"
   },
   "outputs": [],
   "source": [
    "import random\n",
    "from itertools import cycle\n",
    "import matplotlib.pyplot as plt\n",
    "import numpy as np\n",
    "%matplotlib inline"
   ]
  },
  {
   "cell_type": "markdown",
   "id": "Y1eY2s42Isb8",
   "metadata": {
    "id": "Y1eY2s42Isb8"
   },
   "source": [
    "## More weightage for doing nothing "
   ]
  },
  {
   "cell_type": "code",
   "execution_count": null,
   "id": "premium-postage",
   "metadata": {
    "id": "premium-postage"
   },
   "outputs": [],
   "source": [
    "def roll_die():\n",
    "    \n",
    "    '''\n",
    "    This function returns the outcome of a roll of a 6-sided die\n",
    "    ''' \n",
    "    roll = random.randint(1,6) \n",
    "    \n",
    "    return roll\n",
    "\n",
    "def play_turn(player,coins):\n",
    "    \n",
    "    '''\n",
    "    This function performs a player's turn in the game. The player rolls a 6-sided die. Below are the actions of the outcome.\n",
    "    1 : Player does nothing. Next player's turn for the game starts\n",
    "    2 : Player takes all coins from pot. If pot is empty, player loses and game is over. If not, coins are updated and game switches to next Player.\n",
    "    3 : Player takes 1/2 coins from pot (rounded down). If pot is empty or has only 1 coin, player loses and game is over. If not, coins are updated and game switches to next Player.\n",
    "    4,5,6 : Player puts a coin in the pot. If player does not have coins, he loses and game is over. If not, coins are updated and game switches to next player.\n",
    "    '''\n",
    "    \n",
    "    roll = roll_die()\n",
    "    \n",
    "    # Rolling 1\n",
    "    if roll ==1:\n",
    "        # Switch game to next Player\n",
    "        return 'next',player,roll\n",
    "    \n",
    "    # Rolling 4,5,6\n",
    "    elif roll in (4,5,6):\n",
    "        if not coins[player]:\n",
    "            # Player loses and game is over.\n",
    "            return 'over',player,roll\n",
    "        \n",
    "        else:\n",
    "            # Player adds a coin to the pot.\n",
    "            coins['pot'] += 1\n",
    "            coins[player] -= 1\n",
    "            return 'next',player,roll\n",
    "    \n",
    "    # Rolling 2\n",
    "    elif roll == 2:\n",
    "        if not coins['pot']:\n",
    "            # Player loses and game is over.\n",
    "            return 'over',player,roll\n",
    "        \n",
    "        else:\n",
    "            # Player takes all coins from pot\n",
    "            coins[player] += coins['pot']\n",
    "            coins['pot'] = 0\n",
    "            return 'next',player,roll\n",
    "    \n",
    "    # Rolling 3\n",
    "    else:\n",
    "        # Player takes 1/2 coins from pot\n",
    "        coins[player] += coins['pot']//2\n",
    "        coins['pot'] -= coins['pot']//2\n",
    "        return 'next',player,roll\n",
    "        "
   ]
  },
  {
   "cell_type": "code",
   "execution_count": null,
   "id": "universal-vatican",
   "metadata": {
    "id": "universal-vatican"
   },
   "outputs": [],
   "source": [
    "def main():\n",
    "    # Main program routine\n",
    "\n",
    "    # Initializing coins for Players A, B and pot\n",
    "    players = {0:'A', 1:'B'}\n",
    "    coins = {'A':4, 'B':4, 'pot':2}\n",
    "\n",
    "    # Initializing cycle. A cycle is defined as either player completing their turn. Player A starts the game.\n",
    "    game_cycle = 0\n",
    "    turn = cycle(range(2))\n",
    "\n",
    "    #print(\"Before Game start State \", coins)\n",
    "\n",
    "    while True:    \n",
    "        result,player,roll = play_turn(players[next(turn)], coins)\n",
    "\n",
    "        # Add a cycle every time player 'A' plays a turn\n",
    "        if player == 'A':\n",
    "            game_cycle += 1\n",
    "\n",
    "        # print(\"Current Cycle\", game_cycle)\n",
    "        # print(\"Player: \", player, \"Roll: \",roll)\n",
    "        # print(coins)\n",
    "        # print(\"\")\n",
    "        # print(result)\n",
    "\n",
    "        if result == 'over':\n",
    "            #print(\"Cycle: \", game_cycle, \" Player: \", player, \"Lost\")\n",
    "            break\n",
    "    return game_cycle,player"
   ]
  },
  {
   "cell_type": "code",
   "execution_count": null,
   "id": "alpha-renaissance",
   "metadata": {
    "id": "alpha-renaissance"
   },
   "outputs": [],
   "source": [
    "# Simulating 10000 runs and getting the number of cylcles for each run\n",
    "N = 1000000\n",
    "\n",
    "a = np.zeros(N)\n",
    "b = np.chararray((N))\n",
    "\n",
    "for i in range(N):\n",
    "  a[i],b[i]= main()\n",
    "\n",
    "#a,b = main() for i in range(1)\n",
    "#[result,player= [main() for i in range(1)]"
   ]
  },
  {
   "cell_type": "code",
   "execution_count": null,
   "id": "certain-drunk",
   "metadata": {
    "id": "certain-drunk"
   },
   "outputs": [],
   "source": [
    "expected_cycles = np.mean(a)"
   ]
  },
  {
   "cell_type": "code",
   "execution_count": null,
   "id": "unavailable-domain",
   "metadata": {
    "colab": {
     "base_uri": "https://localhost:8080/"
    },
    "id": "unavailable-domain",
    "outputId": "40eaf597-5c57-4fce-c906-bd1395ffce82"
   },
   "outputs": [
    {
     "data": {
      "text/plain": [
       "8.875502"
      ]
     },
     "execution_count": 104,
     "metadata": {
      "tags": []
     },
     "output_type": "execute_result"
    }
   ],
   "source": [
    "expected_cycles"
   ]
  },
  {
   "cell_type": "code",
   "execution_count": null,
   "id": "1W7vva8DHZ03",
   "metadata": {
    "id": "1W7vva8DHZ03"
   },
   "outputs": [],
   "source": [
    "import collections\n",
    "from collections import Counter"
   ]
  },
  {
   "cell_type": "code",
   "execution_count": null,
   "id": "9hLygHUPHmpe",
   "metadata": {
    "colab": {
     "base_uri": "https://localhost:8080/"
    },
    "id": "9hLygHUPHmpe",
    "outputId": "e2b3238b-6f9e-4fd2-b50c-0743574c1777"
   },
   "outputs": [
    {
     "data": {
      "text/plain": [
       "Counter({b'A': 495609, b'B': 504391})"
      ]
     },
     "execution_count": 106,
     "metadata": {
      "tags": []
     },
     "output_type": "execute_result"
    }
   ],
   "source": [
    "Counter(b)"
   ]
  },
  {
   "cell_type": "markdown",
   "id": "1k9zRA-eIyro",
   "metadata": {
    "id": "1k9zRA-eIyro"
   },
   "source": [
    "## More weightage for taking half in the pot\n",
    "\n"
   ]
  },
  {
   "cell_type": "code",
   "execution_count": null,
   "id": "RYqBvcwtI3sA",
   "metadata": {
    "id": "RYqBvcwtI3sA"
   },
   "outputs": [],
   "source": [
    "def roll_die():\n",
    "    \n",
    "    '''\n",
    "    This function returns the outcome of a roll of a 6-sided die\n",
    "    ''' \n",
    "    roll = random.randint(1,6) \n",
    "    \n",
    "    return roll\n",
    "\n",
    "def play_turn(player,coins):\n",
    "    \n",
    "    '''\n",
    "    This function performs a player's turn in the game. The player rolls a 6-sided die. Below are the actions of the outcome.\n",
    "    1 : Player does nothing. Next player's turn for the game starts\n",
    "    2 : Player takes all coins from pot. If pot is empty, player loses and game is over. If not, coins are updated and game switches to next Player.\n",
    "    3 : Player takes 1/2 coins from pot (rounded down). If pot is empty or has only 1 coin, player loses and game is over. If not, coins are updated and game switches to next Player.\n",
    "    4,5,6 : Player puts a coin in the pot. If player does not have coins, he loses and game is over. If not, coins are updated and game switches to next player.\n",
    "    '''\n",
    "    \n",
    "    roll = roll_die()\n",
    "    \n",
    "    # Rolling 1\n",
    "    if roll ==1 :\n",
    "        # Switch game to next Player\n",
    "        return 'next',player,roll\n",
    "    \n",
    "    # Rolling 4\n",
    "    elif roll==4:\n",
    "        if not coins[player]:\n",
    "            # Player loses and game is over.\n",
    "            return 'over',player,roll\n",
    "        \n",
    "        else:\n",
    "            # Player adds a coin to the pot.\n",
    "            coins['pot'] += 1\n",
    "            coins[player] -= 1\n",
    "            return 'next',player,roll\n",
    "    \n",
    "    # Rolling 2\n",
    "    elif roll == 2:\n",
    "        if not coins['pot']:\n",
    "            # Player loses and game is over.\n",
    "            return 'over',player,roll\n",
    "        \n",
    "        else:\n",
    "            # Player takes all coins from pot\n",
    "            coins[player] += coins['pot']\n",
    "            coins['pot'] = 0\n",
    "            return 'next',player,roll\n",
    "    \n",
    "    # Rolling 3,5,6\n",
    "    else:\n",
    "          # Player takes 1/2 coins from pot\n",
    "        coins[player] += coins['pot']//2\n",
    "        coins['pot'] -= coins['pot']//2\n",
    "        return 'next',player,roll\n",
    "        "
   ]
  },
  {
   "cell_type": "code",
   "execution_count": null,
   "id": "_8QBi_NOJBsi",
   "metadata": {
    "id": "_8QBi_NOJBsi"
   },
   "outputs": [],
   "source": [
    "def main():\n",
    "    # Main program routine\n",
    "\n",
    "    # Initializing coins for Players A, B and pot\n",
    "    players = {0:'A', 1:'B'}\n",
    "    coins = {'A':4, 'B':4, 'pot':2}\n",
    "\n",
    "    # Initializing cycle. A cycle is defined as either player completing their turn. Player A starts the game.\n",
    "    game_cycle = 0\n",
    "    turn = cycle(range(2))\n",
    "\n",
    "    #print(\"Before Game start State \", coins)\n",
    "\n",
    "    while True:    \n",
    "        result,player,roll = play_turn(players[next(turn)], coins)\n",
    "\n",
    "        # Add a cycle every time player 'A' plays a turn\n",
    "        if player == 'A':\n",
    "            game_cycle += 1\n",
    "\n",
    "        # print(\"Current Cycle\", game_cycle)\n",
    "        # print(\"Player: \", player, \"Roll: \",roll)\n",
    "        # print(coins)\n",
    "        # print(\"\")\n",
    "        # print(result)\n",
    "\n",
    "        if result == 'over':\n",
    "            #print(\"Cycle: \", game_cycle, \" Player: \", player, \"Lost\")\n",
    "            break\n",
    "    return game_cycle,player"
   ]
  },
  {
   "cell_type": "code",
   "execution_count": null,
   "id": "jlo4LiY4JIGa",
   "metadata": {
    "id": "jlo4LiY4JIGa"
   },
   "outputs": [],
   "source": [
    "# Simulating 10000 runs and getting the number of cylcles for each run\n",
    "N = 1000000\n",
    "\n",
    "a = np.zeros(N)\n",
    "b = np.chararray((N))\n",
    "\n",
    "for i in range(N):\n",
    "  a[i],b[i]= main()\n",
    "\n",
    "#a,b = main() for i in range(1)\n",
    "#[result,player= [main() for i in range(1)]"
   ]
  },
  {
   "cell_type": "code",
   "execution_count": null,
   "id": "kK5Rk8aJJLP6",
   "metadata": {
    "colab": {
     "base_uri": "https://localhost:8080/"
    },
    "id": "kK5Rk8aJJLP6",
    "outputId": "d9f9e6a3-e08a-4e3e-94fd-5d5d16859ecc"
   },
   "outputs": [
    {
     "name": "stdout",
     "output_type": "stream",
     "text": [
      "9.073737\n"
     ]
    }
   ],
   "source": [
    "expected_cycles = np.mean(a)\n",
    "print(expected_cycles)"
   ]
  },
  {
   "cell_type": "code",
   "execution_count": null,
   "id": "_fXyZkQ4JS1C",
   "metadata": {
    "colab": {
     "base_uri": "https://localhost:8080/"
    },
    "id": "_fXyZkQ4JS1C",
    "outputId": "9725e8ee-452c-4167-8397-c942abd3d1e2"
   },
   "outputs": [
    {
     "data": {
      "text/plain": [
       "Counter({b'A': 493078, b'B': 506922})"
      ]
     },
     "execution_count": 91,
     "metadata": {
      "tags": []
     },
     "output_type": "execute_result"
    }
   ],
   "source": [
    "Counter(b)"
   ]
  },
  {
   "cell_type": "markdown",
   "id": "qBxyicHbJ18w",
   "metadata": {
    "id": "qBxyicHbJ18w"
   },
   "source": [
    "## More weightage to put all in the pot "
   ]
  },
  {
   "cell_type": "code",
   "execution_count": null,
   "id": "9TEJMp5sJ_YS",
   "metadata": {
    "id": "9TEJMp5sJ_YS"
   },
   "outputs": [],
   "source": [
    "def roll_die():\n",
    "    \n",
    "    '''\n",
    "    This function returns the outcome of a roll of a 6-sided die\n",
    "    ''' \n",
    "    roll = random.randint(1,6) \n",
    "    \n",
    "    return roll\n",
    "\n",
    "def play_turn(player,coins):\n",
    "    \n",
    "    '''\n",
    "    This function performs a player's turn in the game. The player rolls a 6-sided die. Below are the actions of the outcome.\n",
    "    1 : Player does nothing. Next player's turn for the game starts\n",
    "    2 : Player takes all coins from pot. If pot is empty, player loses and game is over. If not, coins are updated and game switches to next Player.\n",
    "    3 : Player takes 1/2 coins from pot (rounded down). If pot is empty or has only 1 coin, player loses and game is over. If not, coins are updated and game switches to next Player.\n",
    "    4,5,6 : Player puts a coin in the pot. If player does not have coins, he loses and game is over. If not, coins are updated and game switches to next player.\n",
    "    '''\n",
    "    \n",
    "    roll = roll_die()\n",
    "    \n",
    "    # Rolling 1\n",
    "    if roll == 1:\n",
    "        # Switch game to next Player\n",
    "        return 'next',player,roll\n",
    "    \n",
    "    # Rolling 4,5,6\n",
    "    elif roll==4:\n",
    "        if not coins[player]:\n",
    "            # Player loses and game is over.\n",
    "            return 'over',player,roll\n",
    "        \n",
    "        else:\n",
    "            # Player adds a coin to the pot.\n",
    "            coins['pot'] += 1\n",
    "            coins[player] -= 1\n",
    "            return 'next',player,roll\n",
    "    \n",
    "    # Rolling 2\n",
    "    elif roll in (2,5,6):\n",
    "        if not coins['pot']:\n",
    "            # Player loses and game is over.\n",
    "            return 'over',player,roll\n",
    "        \n",
    "        else:\n",
    "            # Player takes all coins from pot\n",
    "            coins[player] += coins['pot']\n",
    "            coins['pot'] = 0\n",
    "            return 'next',player,roll\n",
    "    \n",
    "    # Rolling 3\n",
    "    else:\n",
    "          # Player takes 1/2 coins from pot\n",
    "          coins[player] += coins['pot']//2\n",
    "          coins['pot'] -= coins['pot']//2\n",
    "          return 'next',player,roll\n",
    "        "
   ]
  },
  {
   "cell_type": "code",
   "execution_count": null,
   "id": "LpOflxRyKEwN",
   "metadata": {
    "id": "LpOflxRyKEwN"
   },
   "outputs": [],
   "source": [
    "def main():\n",
    "    # Main program routine\n",
    "\n",
    "    # Initializing coins for Players A, B and pot\n",
    "    players = {0:'A', 1:'B'}\n",
    "    coins = {'A':4, 'B':4, 'pot':2}\n",
    "\n",
    "    # Initializing cycle. A cycle is defined as either player completing their turn. Player A starts the game.\n",
    "    game_cycle = 0\n",
    "    turn = cycle(range(2))\n",
    "\n",
    "    #print(\"Before Game start State \", coins)\n",
    "\n",
    "    while True:    \n",
    "        result,player,roll = play_turn(players[next(turn)], coins)\n",
    "\n",
    "        # Add a cycle every time player 'A' plays a turn\n",
    "        if player == 'A':\n",
    "            game_cycle += 1\n",
    "\n",
    "        # print(\"Current Cycle\", game_cycle)\n",
    "        # print(\"Player: \", player, \"Roll: \",roll)\n",
    "        # print(coins)\n",
    "        # print(\"\")\n",
    "        # print(result)\n",
    "\n",
    "        if result == 'over':\n",
    "            #print(\"Cycle: \", game_cycle, \" Player: \", player, \"Lost\")\n",
    "            break\n",
    "    return game_cycle,player"
   ]
  },
  {
   "cell_type": "code",
   "execution_count": null,
   "id": "7GlHfUuxKMtp",
   "metadata": {
    "id": "7GlHfUuxKMtp"
   },
   "outputs": [],
   "source": [
    "# Simulating 10000 runs and getting the number of cylcles for each run\n",
    "N = 1000000\n",
    "\n",
    "a = np.zeros(N)\n",
    "b = np.chararray((N))\n",
    "\n",
    "for i in range(N):\n",
    "  a[i],b[i]= main()\n",
    "\n",
    "#a,b = main() for i in range(1)\n",
    "#[result,player= [main() for i in range(1)]"
   ]
  },
  {
   "cell_type": "code",
   "execution_count": null,
   "id": "zJHmwubKKS3B",
   "metadata": {
    "colab": {
     "base_uri": "https://localhost:8080/"
    },
    "id": "zJHmwubKKS3B",
    "outputId": "a912e804-9b76-4e9d-8315-93cf1598f45e"
   },
   "outputs": [
    {
     "name": "stdout",
     "output_type": "stream",
     "text": [
      "2.549699\n"
     ]
    }
   ],
   "source": [
    "expected_cycles = np.mean(a)\n",
    "print(expected_cycles)"
   ]
  },
  {
   "cell_type": "code",
   "execution_count": null,
   "id": "5mPzaKa6KlpN",
   "metadata": {
    "colab": {
     "base_uri": "https://localhost:8080/"
    },
    "id": "5mPzaKa6KlpN",
    "outputId": "38302dab-0cd7-4751-8956-a1e53175aa78"
   },
   "outputs": [
    {
     "data": {
      "text/plain": [
       "Counter({b'A': 435168, b'B': 564832})"
      ]
     },
     "execution_count": 99,
     "metadata": {
      "tags": []
     },
     "output_type": "execute_result"
    }
   ],
   "source": [
    "Counter(b)"
   ]
  }
 ],
 "metadata": {
  "accelerator": "GPU",
  "colab": {
   "name": "Game Simulation.ipynb",
   "provenance": []
  },
  "kernelspec": {
   "display_name": "Python 3",
   "language": "python",
   "name": "python3"
  },
  "language_info": {
   "codemirror_mode": {
    "name": "ipython",
    "version": 3
   },
   "file_extension": ".py",
   "mimetype": "text/x-python",
   "name": "python",
   "nbconvert_exporter": "python",
   "pygments_lexer": "ipython3",
   "version": "3.7.8"
  }
 },
 "nbformat": 4,
 "nbformat_minor": 5
}
