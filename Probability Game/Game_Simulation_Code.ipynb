{
 "cells": [
  {
   "cell_type": "markdown",
   "id": "danish-sitting",
   "metadata": {
    "id": "danish-sitting"
   },
   "source": [
    "## Project Description\n",
    "\n",
    "#### There are two players, A and B. At the beginning of the game, each starts with 4 coins, and there are 2 coins in the pot. A goes first,then B, then A,. . . . During a particular player's turn, the player tosses a 6-sided die. If the player rolls a:  \n",
    "\n",
    "#### \u000f 1, then the player does nothing.  \n",
    "#### \u000f 2: then the player takes all coins in the pot. \n",
    "#### \u000f 3: then the player takes half of the coins in the pot (rounded down). \n",
    "#### \u000f 4,5,6: then the player puts a coin in the pot. \n",
    "\n",
    "####  A player loses (and the game is over) if they are unable to perform the task (i.e., if they have 0 coins and need to place one in the pot). We define a cycle as A and then B completing their turns. The exception is if a player goes out; that is the final cycle (but it still counts as the last cycle). \n",
    "\n",
    "####  We are trying to determine the expected number (and maybe even the distribution) of cycles the game will last for. I'm guessing that you can use \"first-step\" analysis to get the expected value. Simulation seems the easiest thing to do to get the entire distribution."
   ]
  },
  {
   "cell_type": "code",
   "execution_count": 1,
   "id": "annoying-skiing",
   "metadata": {
    "id": "annoying-skiing"
   },
   "outputs": [],
   "source": [
    "import random\n",
    "from itertools import cycle\n",
    "import matplotlib.pyplot as plt\n",
    "import numpy as np\n",
    "%matplotlib inline"
   ]
  },
  {
   "cell_type": "code",
   "execution_count": 2,
   "id": "premium-postage",
   "metadata": {
    "id": "premium-postage"
   },
   "outputs": [],
   "source": [
    "def roll_die():\n",
    "    \n",
    "    '''\n",
    "    This function returns the outcome of a roll of a 6-sided die\n",
    "    ''' \n",
    "    roll = random.randint(1,6) \n",
    "    \n",
    "    return roll\n",
    "\n",
    "def play_turn(player,coins):\n",
    "    \n",
    "    '''\n",
    "    This function performs a player's turn in the game. The player rolls a 6-sided die. Below are the actions of the outcome.\n",
    "    1 : Player does nothing. Next player's turn for the game starts\n",
    "    2 : Player takes all coins from pot. If pot is empty, player loses and game is over. If not, coins are updated and game switches to next Player.\n",
    "    3 : Player takes 1/2 coins from pot (rounded down). If pot is empty or has only 1 coin, player loses and game is over. If not, coins are updated and game switches to next Player.\n",
    "    4,5,6 : Player puts a coin in the pot. If player does not have coins, he loses and game is over. If not, coins are updated and game switches to next player.\n",
    "    '''\n",
    "    \n",
    "    roll = roll_die()\n",
    "    \n",
    "    # Rolling 1\n",
    "    if roll == 1:\n",
    "        # Switch game to next Player\n",
    "        return 'next',player,roll\n",
    "    \n",
    "    # Rolling 4,5,6\n",
    "    elif roll in (4,5,6):\n",
    "        if not coins[player]:\n",
    "            # Player loses and game is over.\n",
    "            return 'over',player,roll\n",
    "        \n",
    "        else:\n",
    "            # Player adds a coin to the pot.\n",
    "            coins['pot'] += 1\n",
    "            coins[player] -= 1\n",
    "            return 'next',player,roll\n",
    "    \n",
    "    # Rolling 2\n",
    "    elif roll == 2:\n",
    "        if not coins['pot']:\n",
    "            # Player loses and game is over.\n",
    "            return 'over',player,roll\n",
    "        \n",
    "        else:\n",
    "            # Player takes all coins from pot\n",
    "            coins[player] += coins['pot']\n",
    "            coins['pot'] = 0\n",
    "            return 'next',player,roll\n",
    "    \n",
    "    # Rolling 3\n",
    "    else:\n",
    "        # Player takes 1/2 coins from pot\n",
    "        coins[player] += coins['pot']//2\n",
    "        coins['pot'] -= coins['pot']//2\n",
    "        return 'next',player,roll\n",
    "        "
   ]
  },
  {
   "cell_type": "code",
   "execution_count": 5,
   "id": "universal-vatican",
   "metadata": {
    "id": "universal-vatican"
   },
   "outputs": [],
   "source": [
    "def main():\n",
    "    # Main program routine\n",
    "\n",
    "    # Initializing coins for Players A, B and pot\n",
    "    players = {0:'A', 1:'B'}\n",
    "    coins = {'A':4, 'B':4, 'pot':2}\n",
    "\n",
    "    # Initializing cycle. A cycle is defined as either player completing their turn. Player A starts the game.\n",
    "    game_cycle = 0\n",
    "    turn = cycle(range(2))\n",
    "\n",
    "    #print(\"Before Game start State \", coins)\n",
    "\n",
    "    while True:    \n",
    "        result,player,roll = play_turn(players[next(turn)], coins)\n",
    "\n",
    "        # Add a cycle every time player 'A' plays a turn\n",
    "        if player == 'A':\n",
    "            game_cycle += 1\n",
    "\n",
    "        #print(\"Current Cycle\", game_cycle)\n",
    "        #print(\"Player: \", player, \"Roll: \",roll)\n",
    "        #print(coins)\n",
    "        #print(\"\")\n",
    "        #print(result)\n",
    "\n",
    "        if result == 'over':\n",
    "            #print(\"Cycle: \", game_cycle, \" Player: \", player, \"Lost\")\n",
    "            break\n",
    "    return game_cycle"
   ]
  },
  {
   "cell_type": "code",
   "execution_count": 6,
   "id": "alpha-renaissance",
   "metadata": {
    "id": "alpha-renaissance"
   },
   "outputs": [],
   "source": [
    "# Simulating 10000 runs and getting the number of cylcles for each run\n",
    "result = [main() for i in range(100000)]"
   ]
  },
  {
   "cell_type": "code",
   "execution_count": 7,
   "id": "certain-drunk",
   "metadata": {
    "id": "certain-drunk"
   },
   "outputs": [],
   "source": [
    "expected_cycles = np.mean(result)"
   ]
  },
  {
   "cell_type": "code",
   "execution_count": 8,
   "id": "unavailable-domain",
   "metadata": {
    "colab": {
     "base_uri": "https://localhost:8080/"
    },
    "id": "unavailable-domain",
    "outputId": "2d0815ae-fe32-4a30-fe98-4a264015c9b9"
   },
   "outputs": [
    {
     "data": {
      "text/plain": [
       "8.89965"
      ]
     },
     "execution_count": 8,
     "metadata": {
      "tags": []
     },
     "output_type": "execute_result"
    }
   ],
   "source": [
    "expected_cycles"
   ]
  },
  {
   "cell_type": "code",
   "execution_count": 9,
   "id": "certified-serial",
   "metadata": {
    "colab": {
     "base_uri": "https://localhost:8080/",
     "height": 359
    },
    "id": "certified-serial",
    "outputId": "737b805b-d767-410f-f747-4ad7fdfb0720"
   },
   "outputs": [
    {
     "data": {
      "text/plain": [
       "(array([8.22791667e-02, 3.89083333e-02, 1.22736111e-02, 3.64861111e-03,\n",
       "        1.24166667e-03, 3.79166667e-04, 1.09722222e-04, 3.61111111e-05,\n",
       "        8.33333333e-06, 4.16666667e-06]),\n",
       " array([ 1. ,  8.2, 15.4, 22.6, 29.8, 37. , 44.2, 51.4, 58.6, 65.8, 73. ]),\n",
       " <a list of 10 Patch objects>)"
      ]
     },
     "execution_count": 9,
     "metadata": {
      "tags": []
     },
     "output_type": "execute_result"
    },
    {
     "data": {
      "image/png": "[encoded data removed]",
      "text/plain": [
       "<Figure size 432x288 with 1 Axes>"
      ]
     },
     "metadata": {
      "needs_background": "light",
      "tags": []
     },
     "output_type": "display_data"
    }
   ],
   "source": [
    "plt.hist(result, density=True)"
   ]
  },
  {
   "cell_type": "code",
   "execution_count": 11,
   "id": "secret-mongolia",
   "metadata": {
    "colab": {
     "base_uri": "https://localhost:8080/"
    },
    "id": "secret-mongolia",
    "outputId": "5148eb2d-18dd-4ffc-83a6-7121c05e9ec7"
   },
   "outputs": [
    {
     "name": "stdout",
     "output_type": "stream",
     "text": [
      "p-value of statstical normality test:  6.452164580394992e-09\n",
      "Shapiro-Wilk Normality test: Distribution is not Gaussian\n",
      "D’Agostino’s K^2 test: Distribution is not Gaussian\n"
     ]
    }
   ],
   "source": [
    "## Testing for normality\n",
    "\n",
    "from scipy.stats import shapiro, normaltest\n",
    "\n",
    "stat,p = shapiro(random.sample(result, 50))\n",
    "stat2,p2 = normaltest(random.sample(result,50))\n",
    "\n",
    "print(\"p-value of statstical normality test: \",p)\n",
    "if p < 0.05:\n",
    "    print(\"Shapiro-Wilk Normality test: Distribution is not Gaussian\")\n",
    "else:\n",
    "    print(\"Shapiro-Wilk Normality : Distribution is Gaussian\")\n",
    "    \n",
    "if p2 < 0.05:\n",
    "    print(\"D’Agostino’s K^2 test: Distribution is not Gaussian\")\n",
    "else:\n",
    "    print(\"D’Agostino’s K^2 test: Distribution is Gaussian\")"
   ]
  },
  {
   "cell_type": "code",
   "execution_count": 12,
   "id": "modular-facial",
   "metadata": {
    "colab": {
     "base_uri": "https://localhost:8080/",
     "height": 377
    },
    "id": "modular-facial",
    "outputId": "8345aab1-320b-40c3-ba19-6c7f5fefef27"
   },
   "outputs": [
    {
     "data": {
      "text/plain": [
       "(array([0.06423554, 0.15126585, 0.14697727, 0.40012032, 0.61816224,\n",
       "        0.53185446, 0.29036517, 0.10255312, 0.02372706, 0.00149168]),\n",
       " array([0.        , 0.42904594, 0.85809189, 1.28713783, 1.71618378,\n",
       "        2.14522972, 2.57427566, 3.00332161, 3.43236755, 3.8614135 ,\n",
       "        4.29045944]),\n",
       " <a list of 10 Patch objects>)"
      ]
     },
     "execution_count": 12,
     "metadata": {
      "tags": []
     },
     "output_type": "execute_result"
    },
    {
     "data": {
      "image/png": "[encoded data removed]",
      "text/plain": [
       "<Figure size 432x288 with 1 Axes>"
      ]
     },
     "metadata": {
      "needs_background": "light",
      "tags": []
     },
     "output_type": "display_data"
    }
   ],
   "source": [
    "## Performing Log transformation to see if normality is seen\n",
    "import math\n",
    "\n",
    "result2 = [math.log(i) for i in result]\n",
    "plt.hist(result2, density=True)"
   ]
  },
  {
   "cell_type": "code",
   "execution_count": 13,
   "id": "minute-concern",
   "metadata": {
    "colab": {
     "base_uri": "https://localhost:8080/"
    },
    "id": "minute-concern",
    "outputId": "becd73a5-d779-407a-8c7c-4a91ab16eabc"
   },
   "outputs": [
    {
     "name": "stdout",
     "output_type": "stream",
     "text": [
      "p-value of statstical normality test:  0.16289569437503815\n",
      "Shapiro-Wilk Normality : Distribution is Gaussian\n",
      "D’Agostino’s K^2 test: Distribution is Gaussian\n"
     ]
    }
   ],
   "source": [
    "## Testing for normality\n",
    "\n",
    "from scipy.stats import shapiro, normaltest\n",
    "\n",
    "stat,p = shapiro(random.sample(result2, 50))\n",
    "stat2,p2 = normaltest(random.sample(result2,50))\n",
    "\n",
    "print(\"p-value of statstical normality test: \",p)\n",
    "if p < 0.05:\n",
    "    print(\"Shapiro-Wilk Normality test: Distribution is not Gaussian\")\n",
    "else:\n",
    "    print(\"Shapiro-Wilk Normality : Distribution is Gaussian\")\n",
    "    \n",
    "if p2 < 0.05:\n",
    "    print(\"D’Agostino’s K^2 test: Distribution is not Gaussian\")\n",
    "else:\n",
    "    print(\"D’Agostino’s K^2 test: Distribution is Gaussian\")"
   ]
  }
 ],
 "metadata": {
  "colab": {
   "name": "Game_Simulation_Code.ipynb",
   "provenance": []
  },
  "kernelspec": {
   "display_name": "Python 3",
   "language": "python",
   "name": "python3"
  },
  "language_info": {
   "codemirror_mode": {
    "name": "ipython",
    "version": 3
   },
   "file_extension": ".py",
   "mimetype": "text/x-python",
   "name": "python",
   "nbconvert_exporter": "python",
   "pygments_lexer": "ipython3",
   "version": "3.7.8"
  }
 },
 "nbformat": 4,
 "nbformat_minor": 5
}
